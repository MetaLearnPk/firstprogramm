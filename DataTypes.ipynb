{
 "cells": [
  {
   "cell_type": "markdown",
   "id": "675d386a",
   "metadata": {},
   "source": [
    "## *1. Boolean (True / False)*\n",
    "\n",
    "### 🔹 *Definition:*  \n",
    "The *Boolean* data type can have *only two values*:  \n",
    "- True  \n",
    "- False\n",
    "\n",
    "It is typically used in *decision making* or *conditions* (like if statements).\n",
    "### *Example Program:*\n"
   ]
  },
  {
   "cell_type": "code",
   "execution_count": null,
   "id": "0d2ad1db",
   "metadata": {},
   "outputs": [],
   "source": [
    "is_student = True\n",
    "has_passed = False\n",
    "\n",
    "if is_student:\n",
    "    print(\"You are a student.\")\n",
    "else:\n",
    "    print(\"You are not a student.\")\n",
    "\n",
    "if has_passed:\n",
    "    print(\"Congratulations, you passed!\")\n",
    "else:\n",
    "    print(\"Try again next time.\")"
   ]
  },
  {
   "cell_type": "markdown",
   "id": "faf1fad0",
   "metadata": {},
   "source": [
    "### *Explanation:*  \n",
    "- is_student = True means the person is a student.  \n",
    "- has_passed = False means the person has not passed.  \n",
    "- Using if statements, we decide what to print based on the Boolean values."
   ]
  },
  {
   "cell_type": "markdown",
   "id": "af3b142d",
   "metadata": {},
   "source": [
    "## ✅ *2. List*\n",
    "\n",
    "### 🔹 *Definition:*  \n",
    "A *List* is an *ordered collection* of items, and it can store multiple items of *different data types*.\n",
    "\n",
    "📌 Lists are defined using *square brackets* [].\n",
    "\n",
    "---\n",
    "\n",
    "### *Example Program:*"
   ]
  },
  {
   "cell_type": "code",
   "execution_count": null,
   "id": "973ca898",
   "metadata": {},
   "outputs": [],
   "source": [
    "fruits = [\"apple\", \"banana\", \"mango\"]\n",
    "\n",
    "# Display all items in the list\n",
    "print(\"Fruits list:\", fruits)\n",
    "\n",
    "# Access a specific item in the list\n",
    "print(\"First fruit:\", fruits[0])\n",
    "\n",
    "# Add a new item to the list\n",
    "fruits.append(\"orange\")\n",
    "\n",
    "# Display the updated list\n",
    "print(\"Updated fruits list:\", fruits)"
   ]
  },
  {
   "cell_type": "markdown",
   "id": "52495f79",
   "metadata": {},
   "source": [
    "### *Explanation:*  \n",
    "- fruits is a list containing names of fruits.  \n",
    "- fruits[0] accesses the first item in the list.  \n",
    "- The append() method is used to add a new fruit to the list."
   ]
  },
  {
   "cell_type": "markdown",
   "id": "f99ee340",
   "metadata": {},
   "source": [
    "## ✅ *3. Dictionary*\n",
    "\n",
    "### 🔹 *Definition:*  \n",
    "A *Dictionary* is a collection of *key-value pairs*.  \n",
    "Each *key* is unique, and each key points to a specific *value*.\n",
    "\n",
    "📌 Dictionaries are defined using *curly braces* {}.\n",
    "\n",
    "###  *Example Program:*"
   ]
  },
  {
   "cell_type": "code",
   "execution_count": null,
   "id": "fa930bb8",
   "metadata": {},
   "outputs": [],
   "source": [
    "\n",
    "\n",
    "person = {\n",
    "    \"name\": \"Ali\",\n",
    "    \"age\": 25,\n",
    "    \"city\": \"Lahore\"\n",
    "}\n",
    "\n",
    "# Display the entire dictionary\n",
    "print(\"Person Info:\", person)\n",
    "\n",
    "# Access a specific value by key\n",
    "print(\"Name:\", person[\"name\"])\n",
    "\n",
    "# Add a new key-value pair\n",
    "person[\"profession\"] = \"Engineer\"\n",
    "\n",
    "# Display the updated dictionary\n",
    "print(\"Updated Person Info:\", person)"
   ]
  },
  {
   "cell_type": "markdown",
   "id": "62432aee",
   "metadata": {},
   "source": [
    "### *Explanation:*  \n",
    "- person is a dictionary containing keys like \"name\", \"age\", and \"city\" with their respective values.  \n",
    "- person[\"name\"] retrieves the value associated with the \"name\" key, which is \"Ali\".  \n",
    "- A new key-value pair, \"profession\": \"Engineer\", is added to the dictionary."
   ]
  },
  {
   "cell_type": "markdown",
   "id": "d59a6bba",
   "metadata": {},
   "source": [
    "## *Summary:*\n",
    "\n",
    "| Data Type  | Structure            | Real-Life Example         |\n",
    "|------------|----------------------|---------------------------|\n",
    "| Boolean    | True / False        | Is the fan on or off?     |\n",
    "| List       | [\"apple\", \"banana\"] | Grocery shopping list     |\n",
    "| Dictionary | {\"name\": \"Ali\", \"age\": 25} | Person's profile  |\n"
   ]
  }
 ],
 "metadata": {
  "kernelspec": {
   "display_name": "environment",
   "language": "python",
   "name": "python3"
  },
  "language_info": {
   "codemirror_mode": {
    "name": "ipython",
    "version": 3
   },
   "file_extension": ".py",
   "mimetype": "text/x-python",
   "name": "python",
   "nbconvert_exporter": "python",
   "pygments_lexer": "ipython3",
   "version": "3.13.2"
  }
 },
 "nbformat": 4,
 "nbformat_minor": 5
}
